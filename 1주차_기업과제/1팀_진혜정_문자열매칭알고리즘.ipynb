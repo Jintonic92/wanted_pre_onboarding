{
  "nbformat": 4,
  "nbformat_minor": 0,
  "metadata": {
    "colab": {
      "name": "1팀_진혜정_문자열매칭알고리즘.ipynb",
      "provenance": [],
      "collapsed_sections": []
    },
    "kernelspec": {
      "name": "python3",
      "display_name": "Python 3"
    },
    "language_info": {
      "name": "python"
    }
  },
  "cells": [
    {
      "cell_type": "markdown",
      "source": [
        "# 문자열 매칭 알고리즘 구현"
      ],
      "metadata": {
        "id": "ZbzQpJInkVlJ"
      }
    },
    {
      "cell_type": "markdown",
      "source": [
        "코드는 다음과 같은 집합 S와 Q로 실행되었습니다.\n",
        "\n",
        "집합 S = \"aaa\" \"aaaabb\" \"aabbcc\" \"abb\" \"bcc\" \"bbcc\" \"aabbccdd\" \"aaabb\" \"cccd\" \"black\"\n",
        "\n",
        "집합 Q =\"aaaabbaabbccdd\" \"blackwidow\""
      ],
      "metadata": {
        "id": "y3KQ46qKf_-W"
      }
    },
    {
      "cell_type": "markdown",
      "source": [
        "## Input 을 위한 코드 "
      ],
      "metadata": {
        "id": "bjwKLz8XkXNi"
      }
    },
    {
      "cell_type": "code",
      "source": [
        "#제출용 작성 부분 code\n",
        "\n",
        "S_list_length = int(input(\"문자열 집합 S의 크기를 입력하세요\"))\n",
        "while True:\n",
        "  if S_list_length > 1000:\n",
        "   raise Exception(\"[ERROR]문자열 집합 S의 크기가 너무 큽니다, 1=<len(S)=<1000 으로 재조정해주세요\")\n",
        "  if S_list_length < -1:\n",
        "   raise Exception(\"[ERROR]문자열 집합 S의 크기가 너무 작습니다, 1=<len(S)=<1000 으로 재조정해주세요\") \n",
        "  break\n",
        "S_list = [x.replace(\"\\\"\", \"\") for x in input(\"문자열 집합 S를 입력하세요, 공백을 구분자로 입력하세요, (eg. \\\"aaa\\\" \\\"bbb\\\")\").split()]\n",
        "while True:\n",
        "  if len(S_list) > 100:\n",
        "   raise Exception(\"[ERROR]문자열의 길이는 100을 넘지 않도록 해주세요\")\n",
        "  break\n",
        "Q_list_length = int(input(\"매칭 대상 문자열의 수를 입력하세요\"))\n",
        "while True:\n",
        "  if Q_list_length > 1000:\n",
        "   raise Exception(\"[ERROR]매칭 대상 문자열 집합 Q의 크기가 너무 큽니다, 1=<len(Q)=<1000 으로 재조정해주세요\")\n",
        "  if Q_list_length < -1:\n",
        "   raise Exception(\"[ERROR]매칭 대상 문자열 집합 Q의 크기가 너무 작습니다, 1=<len(Q)=<1000 으로 재조정해주세요\") \n",
        "  break\n",
        "Q_list = [x.replace(\"\\\"\", \"\") for x in input(\"매칭 대상 문자열 집합 Q를 입력하세요, 공백을 구분자로 입력하세요, (eg. \\\"abc\\\" \\\"blackwidow\\\")\").split()]\n",
        "while True:\n",
        "  if len(S_list) > 10000:\n",
        "   raise Exception(\"[ERROR]문자열의 길이는 10000을 넘지 않도록 해주세요\")\n",
        "  break"
      ],
      "metadata": {
        "colab": {
          "base_uri": "https://localhost:8080/"
        },
        "id": "McwP52h3hz2A",
        "outputId": "823ec5c4-a89e-4177-a59c-2a4c50f79b64"
      },
      "execution_count": null,
      "outputs": [
        {
          "name": "stdout",
          "output_type": "stream",
          "text": [
            "문자열 집합 S의 크기를 입력하세요10\n",
            "문자열 집합 S를 입력하세요, 공백을 구분자로 입력하세요, (eg. \"aaa\" \"bbb\")\"aaa\" \"aaaabb\" \"aabbcc\" \"abb\" \"bcc\" \"bbcc\" \"aabbccdd\" \"aaabb\" \"cccd\" \"black\"\n",
            "매칭 대상 문자열의 수를 입력하세요2\n",
            "매칭 대상 문자열 집합 Q를 입력하세요, 공백을 구분자로 입력하세요, (eg. \"abc\" \"blackwidow\")\"aaaabbaabbccdd\" \"blackwidow\"\n"
          ]
        }
      ]
    },
    {
      "cell_type": "markdown",
      "source": [
        "## 1. 문자열의 여러 부분 문자열 중 하나라도 집합 S에 있으면 'YES'를 출력하고, 아무것도 없으면 'NO'를 출력한다."
      ],
      "metadata": {
        "id": "aD9iF5VYkQa5"
      }
    },
    {
      "cell_type": "code",
      "source": [
        "# 제출용 문제 1\n",
        "from re import search \n",
        "\n",
        "whole = []\n",
        "\n",
        "for each_Q_list_values in Q_list:\n",
        "  holder = []\n",
        "  for each_S_list_values in S_list:\n",
        "   if search(each_S_list_values, each_Q_list_values):\n",
        "     holder.append(\"YES\")\n",
        "  \n",
        "   else:\n",
        "     holder.append(\"NO\")\n",
        "  whole.append(holder)\n",
        "print(whole)"
      ],
      "metadata": {
        "colab": {
          "base_uri": "https://localhost:8080/"
        },
        "id": "FZWAbOpPjTko",
        "outputId": "db401cc4-7145-408e-a5fb-0afa46cbbd1c"
      },
      "execution_count": null,
      "outputs": [
        {
          "output_type": "stream",
          "name": "stdout",
          "text": [
            "[['YES', 'YES', 'YES', 'YES', 'YES', 'YES', 'YES', 'YES', 'NO', 'NO'], ['NO', 'NO', 'NO', 'NO', 'NO', 'NO', 'NO', 'NO', 'NO', 'YES']]\n"
          ]
        }
      ]
    },
    {
      "cell_type": "markdown",
      "source": [
        "## 2. 주어진 문자열의 여러부분 문자열 중 처음 매칭된 패턴과 문자열 시작 포지션을 출력한다."
      ],
      "metadata": {
        "id": "dscywasakjMi"
      }
    },
    {
      "cell_type": "code",
      "source": [
        "#제출용 문제 2\n",
        "for each_Q_list_values in Q_list:\n",
        "  print(f'======= [Q]의 {each_Q_list_values} 문자열=======')\n",
        "  for each_S_list_values in S_list:\n",
        "    index=0\n",
        "    while index < Q_list_length:\n",
        "      index = each_Q_list_values.find(each_S_list_values, index)\n",
        "      if index == -1:\n",
        "        break\n",
        "      print(f'#pos = {index}, pattern= {each_S_list_values}')\n",
        "      index += len(each_S_list_values)"
      ],
      "metadata": {
        "colab": {
          "base_uri": "https://localhost:8080/"
        },
        "id": "Pv-SWwLTh2TY",
        "outputId": "1e90dedc-bfc0-4d44-d784-091cbf7bb4c1"
      },
      "execution_count": null,
      "outputs": [
        {
          "output_type": "stream",
          "name": "stdout",
          "text": [
            "======= [Q]의 aaaabbaabbccdd 문자열=======\n",
            "#pos = 0, pattern= aaa\n",
            "#pos = 0, pattern= aaaabb\n",
            "#pos = 6, pattern= aabbcc\n",
            "#pos = 3, pattern= abb\n",
            "#pos = 9, pattern= bcc\n",
            "#pos = 8, pattern= bbcc\n",
            "#pos = 6, pattern= aabbccdd\n",
            "#pos = 1, pattern= aaabb\n",
            "======= [Q]의 blackwidow 문자열=======\n",
            "#pos = 0, pattern= black\n"
          ]
        }
      ]
    },
    {
      "cell_type": "markdown",
      "source": [
        "## 3. 주어진 문자열의 여러부분 문자열 중 매칭 가능한 모든 패턴과 문자열 시작 포지션을 출 력한다."
      ],
      "metadata": {
        "id": "ulh-l5E_kmNX"
      }
    },
    {
      "cell_type": "code",
      "source": [
        "#제출용 문제 3\n",
        "for each_Q_list_values in Q_list:\n",
        "  print(f'======= [Q]의 {each_Q_list_values} 문자열=======')\n",
        "  for each_S_list_values in S_list:\n",
        "    index=0\n",
        "    while index < Q_list_length:\n",
        "      index = each_Q_list_values.find(each_S_list_values, index)\n",
        "      if index == -1:\n",
        "        break\n",
        "      print(f'#pos = {index}, pattern= {each_S_list_values}')\n",
        "      index += 1\n"
      ],
      "metadata": {
        "colab": {
          "base_uri": "https://localhost:8080/"
        },
        "id": "r50FnkgPh2Oq",
        "outputId": "3e851206-5cc8-4ecc-bb4e-ea974e0786a1"
      },
      "execution_count": null,
      "outputs": [
        {
          "output_type": "stream",
          "name": "stdout",
          "text": [
            "======= [Q]의 aaaabbaabbccdd 문자열=======\n",
            "#pos = 0, pattern= aaa\n",
            "#pos = 1, pattern= aaa\n",
            "#pos = 0, pattern= aaaabb\n",
            "#pos = 6, pattern= aabbcc\n",
            "#pos = 3, pattern= abb\n",
            "#pos = 9, pattern= bcc\n",
            "#pos = 8, pattern= bbcc\n",
            "#pos = 6, pattern= aabbccdd\n",
            "#pos = 1, pattern= aaabb\n",
            "======= [Q]의 blackwidow 문자열=======\n",
            "#pos = 0, pattern= black\n"
          ]
        }
      ]
    },
    {
      "cell_type": "code",
      "source": [
        ""
      ],
      "metadata": {
        "id": "8uKL8IuQk95m"
      },
      "execution_count": null,
      "outputs": []
    }
  ]
}
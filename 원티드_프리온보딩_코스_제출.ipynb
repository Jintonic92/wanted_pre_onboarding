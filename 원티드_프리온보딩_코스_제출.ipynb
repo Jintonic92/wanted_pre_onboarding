{
  "nbformat": 4,
  "nbformat_minor": 0,
  "metadata": {
    "colab": {
      "name": "원티드 프리온보딩 코스 제출.ipynb",
      "provenance": [],
      "collapsed_sections": [
        "KDnCHjIF1pmz",
        "fruzoUFWW_X7"
      ]
    },
    "kernelspec": {
      "name": "python3",
      "display_name": "Python 3"
    },
    "language_info": {
      "name": "python"
    }
  },
  "cells": [
    {
      "cell_type": "markdown",
      "source": [
        "### **문제 1) Tokenizer 생성하기**"
      ],
      "metadata": {
        "id": "l1hw1MbM48xR"
      }
    },
    {
      "cell_type": "markdown",
      "source": [
        "**1-1. `preprocessing()`**\n",
        "\n",
        "텍스트 전처리를 하는 함수입니다.\n",
        "\n",
        "- input: 여러 영어 문장이 포함된 list 입니다. ex) ['I go to school.', 'I LIKE pizza!']\n",
        "- output: 각 문장을 토큰화한 결과로, nested list 형태입니다. ex) [['i', 'go', 'to', 'school'], ['i', 'like', 'pizza']]\n",
        "- 조건 1: 입력된 문장에 대해서 소문자로의 변환과 특수문자 제거를 수행합니다.\n",
        "- 조건 2: 토큰화는 white space 단위로 수행합니다.\n",
        "    \n",
        "    \n",
        "\n",
        "**1-2. `fit()`**\n",
        "\n",
        "어휘 사전을 구축하는 함수입니다.\n",
        "\n",
        "- input: 여러 영어 문장이 포함된 list 입니다. ex) ['I go to school.', 'I LIKE pizza!']\n",
        "- 조건 1: 위에서 만든 `preprocessing` 함수를 이용하여 각 문장에 대해 토큰화를 수행합니다.\n",
        "- 조건 2: 각각의 토큰을 정수 인덱싱 하기 위한 어휘 사전(`self.word_dict`)을 생성합니다.\n",
        "    - 주어진 코드에 있는 `self.word_dict`를 활용합니다.\n",
        "    \n",
        "\n",
        "**1-3. `transform()`**\n",
        "\n",
        "어휘 사전을 활용하여 입력 문장을 정수 인덱싱하는 함수입니다.\n",
        "\n",
        "- input: 여러 영어 문장이 포함된 list입니다. ex) ['I go to school.', 'I LIKE pizza!']\n",
        "- output: 각 문장의 정수 인덱싱으로, nested list 형태입니다. ex) [[1, 2, 3, 4], [1, 5, 6]]\n",
        "- 조건 1: 어휘 사전(`self.word_dict`)에 없는 단어는 'oov'의 index로 변환합니다."
      ],
      "metadata": {
        "id": "m8IRSsjTnTq3"
      }
    },
    {
      "cell_type": "code",
      "execution_count": null,
      "metadata": {
        "id": "TodaIddz41RC"
      },
      "outputs": [],
      "source": [
        "# 필요 Module Import\n",
        "import re\n",
        "\n",
        "class Tokenizer():\n",
        "  def __init__(self):\n",
        "    self.word_dict = {'oov': 0}\n",
        "    self.fit_checker = False\n",
        "  \n",
        "  def preprocessing(self, sequences):\n",
        "    '''\n",
        "    문제1-1\n",
        "    텍스트 전처리를 하는 함수입니다.\n",
        "    '''\n",
        "    result = []\n",
        "    for line in sequences:\n",
        "      tokens = re.sub(r'[^a-zA-Z0-9 ]', \"\", line)\n",
        "      tokens = tokens.lower().split()\n",
        "      result.append(tokens)\n",
        "    return result\n",
        "  \n",
        "  def fit(self, sequences):\n",
        "    '''\n",
        "    문제1-2\n",
        "    어휘 사전을 구축하는 함수입니다.\n",
        "    '''\n",
        "    self.fit_checker = False\n",
        "    token = self.preprocessing(sequences)\n",
        "    new_value = 1\n",
        "    for each_sentence in token:\n",
        "      for each_word in each_sentence:\n",
        "        if each_word not in self.word_dict.keys():\n",
        "          self.word_dict[each_word] = new_value\n",
        "          new_value += 1\n",
        "    self.fit_checker = True\n",
        "  \n",
        "  def transform(self, sequences):\n",
        "    '''\n",
        "    문제1-3\n",
        "    어휘 사전을 활용하여 입력 문장을 정수 인덱싱하는 함수입니다.\n",
        "    '''\n",
        "    result = []\n",
        "    tokens = self.preprocessing(sequences)\n",
        "    if self.fit_checker:\n",
        "      for each_sentence in tokens:\n",
        "        keys = []\n",
        "        for each_word in each_sentence:\n",
        "          if each_word in self.word_dict.keys():\n",
        "            keys.append(self.word_dict[each_word])\n",
        "          if each_word not in self.word_dict.keys():\n",
        "            keys.append(self.word_dict['oov'])\n",
        "        result.append(keys)\n",
        "      return result\n",
        "    else:\n",
        "      raise Exception(\"Tokenizer instance is not fitted yet.\")\n",
        "      \n",
        "  def fit_transform(self, sequences):\n",
        "    self.fit(sequences)\n",
        "    result = self.transform(sequences)\n",
        "    return result"
      ]
    },
    {
      "cell_type": "markdown",
      "source": [
        "### **문제 2) TfidfVectorizer 생성하기**\n"
      ],
      "metadata": {
        "id": "kG1vH6yG1IpK"
      }
    },
    {
      "cell_type": "markdown",
      "source": [
        "**2-1. `fit()`**\n",
        "\n",
        "입력 문장들을 이용해 IDF 행렬을 만드는 함수입니다.\n",
        "\n",
        "- input: 여러 영어 문장이 포함된 list 입니다. ex) ['I go to school.', 'I LIKE pizza!']\n",
        "- 조건 1: IDF 행렬은 list 형태입니다.\n",
        "    - ex) [토큰1에 대한 IDF 값, 토큰2에 대한 IDF 값, .... ]\n",
        "- 조건 2: IDF 값은 아래 식을 이용해 구합니다.\n",
        "    \n",
        "    $$\n",
        "    idf(d,t)=log_e(\\frac{n}{1+df(d,t)})\n",
        "    $$\n",
        "    \n",
        "    - $df(d,t)$ : 단어 t가 포함된 문장 d의 개수\n",
        "    - $n$ : 입력된 전체 문장 개수\n",
        "- 조건 3: 입력된 문장의 토큰화에는 문제 1에서 만든 Tokenizer를 사용합니다.\n",
        "    \n",
        "    \n",
        "\n",
        "**2-2. `transform()`**\n",
        "\n",
        "입력 문장들을 이용해 TF-IDF 행렬을 만드는 함수입니다.\n",
        "\n",
        "- input: 여러 영어 문장이 포함된 list입니다. ex) ['I go to school.', 'I LIKE pizza!']\n",
        "- output : nested list 형태입니다.\n",
        "    \n",
        "    ex) [[tf-idf(1, 1), tf-idf(1, 2), tf-idf(1, 3)], [tf-idf(2, 1), tf-idf(2, 2), tf-idf(2, 3)]]\n",
        "    \n",
        "    |  | 토큰1 | 토큰2 | 토큰3 |\n",
        "    | --- | --- | --- | --- |\n",
        "    | 문장1 | tf-idf(1,1) | tf-idf(1,2) | tf-idf(1,3) |\n",
        "    | 문장2 | tf-idf(2,1) | tf-idf(2,2) | tf-idf(2,3) |\n",
        "- 조건1 : 입력 문장을 이용해 TF 행렬을 만드세요.\n",
        "    - $tf(d, t)$ : 문장 d에 단어 t가 나타난 횟수\n",
        "- 조건2 : 문제 2-1( `fit()`)에서 만든 IDF 행렬과 아래 식을 이용해 TF-IDF 행렬을 만드세요\n",
        "    \n",
        "    $$\n",
        "    tf-idf(d,t) = tf(d,t) \\times idf(d,t)\n",
        "    $$"
      ],
      "metadata": {
        "id": "OoGxlGb5nZRk"
      }
    },
    {
      "cell_type": "code",
      "source": [
        "import math\n",
        "import numpy as np\n",
        "\n",
        "class TfidfVectorizer:\n",
        "  def __init__(self, tokenizer):\n",
        "    self.tokenizer = tokenizer\n",
        "    self.fit_checker = False\n",
        "  \n",
        "  def fit(self, sequences):\n",
        "    tokenized = self.tokenizer.fit_transform(sequences)\n",
        "    '''\n",
        "    문제2-1\n",
        "    입력 문장들을 이용해 IDF 행렬을 만드는 함수입니다.\n",
        "    '''\n",
        "    n = len(tokenized) #입력된 전체 문장 개수 \n",
        "    self.word_set = list(set(word for tokens in tokenized for word in tokens)) # 입력된 문장에서의 모든 vocab #중복무시\n",
        "    self.idf = []\n",
        "    \n",
        "    for token in self.word_set: \n",
        "      df = 0 #df(d,t): 단어 t가 포함된 문장 d의 개수  \n",
        "      for sentence in tokenized: \n",
        "        if token in sentence:\n",
        "          df +=1\n",
        "      self.idf.append(math.log(n/(1+df))) #log(1) = 0 \n",
        "    self.fit_checker = True\n",
        "       \n",
        "\n",
        "  def transform(self, sequences):\n",
        "    if self.fit_checker:\n",
        "      tokenized = self.tokenizer.transform(sequences)\n",
        "      '''\n",
        "      문제2-2\n",
        "      입력 문장들을 이용해 TF-IDF 행렬을 만드는 함수입니다. \n",
        "      ''' \n",
        "      n = len(tokenized) # 입력된 전체 문장 개수\n",
        "\n",
        "      self.tf_matrix = [] # tf(t, d) 문장d에 단어 t가 나타난 개수 \n",
        "      for sentence_index in range(n):\n",
        "        each_sentence = tokenized[sentence_index]\n",
        "        tf = [each_sentence.count(token) for token in self.word_set]\n",
        "        self.tf_matrix.append(tf)\n",
        "\n",
        "\n",
        "      self.tfidf_matrix = [] # tf-idf = tf*idf\n",
        "      for each_tf in self.tf_matrix:\n",
        "        tf_idf = [each_tf[index] * self.idf[index] for index in range(len(each_tf))]\n",
        "        self.tfidf_matrix.append(tf_idf)\n",
        "\n",
        "      return self.tfidf_matrix\n",
        "    else:\n",
        "      raise Exception(\"TfidfVectorizer instance is not fitted yet.\")\n",
        "\n",
        "  \n",
        "  def fit_transform(self, sequences):\n",
        "    self.fit(sequences)\n",
        "    return self.transform(sequences)"
      ],
      "metadata": {
        "id": "dHyCp2IJyA_s"
      },
      "execution_count": null,
      "outputs": []
    }
  ]
}